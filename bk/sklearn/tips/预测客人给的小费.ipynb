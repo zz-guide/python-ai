{
 "cells": [
  {
   "cell_type": "code",
   "execution_count": null,
   "id": "e4ebf5db-6229-4231-ac6d-cede5251131d",
   "metadata": {},
   "outputs": [],
   "source": [
    "# 获取数据集\n",
    "df = "
   ]
  }
 ],
 "metadata": {
  "kernelspec": {
   "display_name": "Python 3 (ipykernel)",
   "language": "python",
   "name": "python3"
  },
  "language_info": {
   "codemirror_mode": {
    "name": "ipython",
    "version": 3
   },
   "file_extension": ".py",
   "mimetype": "text/x-python",
   "name": "python",
   "nbconvert_exporter": "python",
   "pygments_lexer": "ipython3",
   "version": "3.12.3"
  }
 },
 "nbformat": 4,
 "nbformat_minor": 5
}
