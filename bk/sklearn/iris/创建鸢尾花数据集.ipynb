{
 "cells": [
  {
   "cell_type": "markdown",
   "id": "6ce675fa-35c0-4fe0-af5d-db8037efdccc",
   "metadata": {},
   "source": [
    "# 将鸢尾花数据集专为csv"
   ]
  },
  {
   "cell_type": "code",
   "execution_count": 6,
   "id": "0c683333-22d1-4fa2-a3f3-203b5b2576ae",
   "metadata": {},
   "outputs": [],
   "source": [
    "import pandas as pd\n",
    "from sklearn import datasets\n",
    "iris = datasets.load_iris()\n",
    "#分两部分下载，feature_name和target，两部分，之后进行手动合并即可\n",
    "df = pd.DataFrame(iris.data, columns=iris.feature_names)\n",
    "category_data = pd.DataFrame(iris.target, columns=['Category'])\n",
    "df.to_csv('iris_dataset.csv')\n",
    "category_data.to_csv('iris_dataset_target.csv')"
   ]
  },
  {
   "cell_type": "code",
   "execution_count": null,
   "id": "5f1d6bc5-2a19-48db-8580-91ead4b0ba7a",
   "metadata": {},
   "outputs": [],
   "source": []
  }
 ],
 "metadata": {
  "kernelspec": {
   "display_name": "Python 3 (ipykernel)",
   "language": "python",
   "name": "python3"
  },
  "language_info": {
   "codemirror_mode": {
    "name": "ipython",
    "version": 3
   },
   "file_extension": ".py",
   "mimetype": "text/x-python",
   "name": "python",
   "nbconvert_exporter": "python",
   "pygments_lexer": "ipython3",
   "version": "3.12.3"
  }
 },
 "nbformat": 4,
 "nbformat_minor": 5
}
